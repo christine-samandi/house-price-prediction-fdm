{
 "cells": [
  {
   "cell_type": "code",
   "id": "initial_id",
   "metadata": {
    "collapsed": true,
    "ExecuteTime": {
     "end_time": "2025-09-30T07:26:15.151095Z",
     "start_time": "2025-09-30T07:26:15.148092Z"
    }
   },
   "source": [
    "import joblib\n",
    "import pandas as pd"
   ],
   "outputs": [],
   "execution_count": 43
  },
  {
   "metadata": {
    "ExecuteTime": {
     "end_time": "2025-09-30T07:26:15.499905Z",
     "start_time": "2025-09-30T07:26:15.496667Z"
    }
   },
   "cell_type": "code",
   "source": [
    "model_metrics = {\n",
    "    'Random Forest': {\n",
    "        'MAE': 773.84,\n",
    "        'RMSE': 1318.32,\n",
    "        'R2_Score': 0.7762,\n",
    "        'file': 'models/random_forest_model.pkl'\n",
    "    },\n",
    "    'Decision Tree': {\n",
    "        'MAE': 961.06,\n",
    "        'RMSE': 1536.51,\n",
    "        'R2_Score': 0.6960,\n",
    "        'file': 'models/decision_tree_model.pkl'\n",
    "    },\n",
    "    'Linear Regression': {\n",
    "        'MAE': 1575.99,\n",
    "        'RMSE': 2082.63,\n",
    "        'R2_Score': 0.4415,\n",
    "        'file': 'models/linear_regression_model_new.pkl'\n",
    "    },\n",
    "    'Gradient Boosting': {\n",
    "        'MAE': 932.84,\n",
    "        'RMSE': 1348.03,\n",
    "        'R2_Score': 0.7660,\n",
    "        'file': 'models/gradient_boosting_model.pkl'\n",
    "    }\n",
    "}"
   ],
   "id": "ead6e0bbbe07fd67",
   "outputs": [],
   "execution_count": 44
  },
  {
   "metadata": {
    "ExecuteTime": {
     "end_time": "2025-09-30T07:26:16.135319Z",
     "start_time": "2025-09-30T07:26:16.130315Z"
    }
   },
   "cell_type": "code",
   "source": [
    "# Find the best model (highest R2 score)\n",
    "best_model_name = max(model_metrics.items(), key=lambda x: x[1]['R2_Score'])[0]\n",
    "best_model_metrics = model_metrics[best_model_name]\n",
    "\n",
    "print(f\"BEST MODEL: {best_model_name}\")\n",
    "print(f\"R² Score: {best_model_metrics['R2_Score']:.4f}\")\n",
    "print(f\"MAE: {best_model_metrics['MAE']:,.2f}\")\n",
    "print(f\"RMSE: {best_model_metrics['RMSE']:,.2f}\")"
   ],
   "id": "a0aa7958942b329b",
   "outputs": [
    {
     "name": "stdout",
     "output_type": "stream",
     "text": [
      "BEST MODEL: Random Forest\n",
      "R² Score: 0.7762\n",
      "MAE: 773.84\n",
      "RMSE: 1,318.32\n"
     ]
    }
   ],
   "execution_count": 45
  },
  {
   "metadata": {
    "ExecuteTime": {
     "end_time": "2025-09-30T07:26:16.641217Z",
     "start_time": "2025-09-30T07:26:16.637704Z"
    }
   },
   "cell_type": "code",
   "source": [
    "# Save best model info\n",
    "best_model_info = {\n",
    "    'name': best_model_name,\n",
    "    'metrics': best_model_metrics,\n",
    "    'file_path': best_model_metrics['file']\n",
    "}"
   ],
   "id": "c320aedded37869",
   "outputs": [],
   "execution_count": 46
  },
  {
   "metadata": {
    "ExecuteTime": {
     "end_time": "2025-09-30T07:26:18.215147Z",
     "start_time": "2025-09-30T07:26:18.213054Z"
    }
   },
   "cell_type": "code",
   "source": "",
   "id": "1fd197b55876ae37",
   "outputs": [],
   "execution_count": null
  },
  {
   "metadata": {
    "ExecuteTime": {
     "end_time": "2025-09-30T07:26:19.412321Z",
     "start_time": "2025-09-30T07:26:19.407154Z"
    }
   },
   "cell_type": "code",
   "source": "joblib.dump(best_model_info, 'best_model_info.pkl')",
   "id": "3bb2c6fd9e2ef97c",
   "outputs": [
    {
     "data": {
      "text/plain": [
       "['best_model_info.pkl']"
      ]
     },
     "execution_count": 47,
     "metadata": {},
     "output_type": "execute_result"
    }
   ],
   "execution_count": 47
  },
  {
   "metadata": {},
   "cell_type": "code",
   "outputs": [],
   "execution_count": null,
   "source": "",
   "id": "f60ab710525efc31"
  }
 ],
 "metadata": {
  "kernelspec": {
   "display_name": "Python 3",
   "language": "python",
   "name": "python3"
  },
  "language_info": {
   "codemirror_mode": {
    "name": "ipython",
    "version": 2
   },
   "file_extension": ".py",
   "mimetype": "text/x-python",
   "name": "python",
   "nbconvert_exporter": "python",
   "pygments_lexer": "ipython2",
   "version": "2.7.6"
  }
 },
 "nbformat": 4,
 "nbformat_minor": 5
}
