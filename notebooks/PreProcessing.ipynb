{
 "cells": [
  {
   "cell_type": "code",
   "execution_count": 2,
   "id": "dc8f2fa9-7d9e-4e71-bf0a-ff0c3335bd22",
   "metadata": {},
   "outputs": [],
   "source": [
    "#Import Libraries\n",
    "import pandas as pd\n",
    "import numpy as np\n",
    "from sklearn.model_selection import train_test_split\n",
    "from sklearn.preprocessing import StandardScaler, OneHotEncoder\n",
    "from sklearn.compose import ColumnTransformer\n",
    "from sklearn.pipeline import Pipeline\n",
    "from sklearn.impute import SimpleImputer"
   ]
  },
  {
   "cell_type": "code",
   "execution_count": 3,
   "id": "57a21630-1c41-4fc3-a1a0-e4701c6bcf51",
   "metadata": {},
   "outputs": [
    {
     "name": "stdout",
     "output_type": "stream",
     "text": [
      "Shape of dataset: (187531, 21)\n",
      "Columns: ['Index', 'Title', 'Description', 'Amount(in rupees)', 'Price (in rupees)', 'location', 'Carpet Area', 'Status', 'Floor', 'Transaction', 'Furnishing', 'facing', 'overlooking', 'Society', 'Bathroom', 'Balcony', 'Car Parking', 'Ownership', 'Super Area', 'Dimensions', 'Plot Area']\n"
     ]
    },
    {
     "data": {
      "text/html": [
       "<div>\n",
       "<style scoped>\n",
       "    .dataframe tbody tr th:only-of-type {\n",
       "        vertical-align: middle;\n",
       "    }\n",
       "\n",
       "    .dataframe tbody tr th {\n",
       "        vertical-align: top;\n",
       "    }\n",
       "\n",
       "    .dataframe thead th {\n",
       "        text-align: right;\n",
       "    }\n",
       "</style>\n",
       "<table border=\"1\" class=\"dataframe\">\n",
       "  <thead>\n",
       "    <tr style=\"text-align: right;\">\n",
       "      <th></th>\n",
       "      <th>Index</th>\n",
       "      <th>Title</th>\n",
       "      <th>Description</th>\n",
       "      <th>Amount(in rupees)</th>\n",
       "      <th>Price (in rupees)</th>\n",
       "      <th>location</th>\n",
       "      <th>Carpet Area</th>\n",
       "      <th>Status</th>\n",
       "      <th>Floor</th>\n",
       "      <th>Transaction</th>\n",
       "      <th>...</th>\n",
       "      <th>facing</th>\n",
       "      <th>overlooking</th>\n",
       "      <th>Society</th>\n",
       "      <th>Bathroom</th>\n",
       "      <th>Balcony</th>\n",
       "      <th>Car Parking</th>\n",
       "      <th>Ownership</th>\n",
       "      <th>Super Area</th>\n",
       "      <th>Dimensions</th>\n",
       "      <th>Plot Area</th>\n",
       "    </tr>\n",
       "  </thead>\n",
       "  <tbody>\n",
       "    <tr>\n",
       "      <th>0</th>\n",
       "      <td>0</td>\n",
       "      <td>1 BHK Ready to Occupy Flat for sale in Srushti...</td>\n",
       "      <td>Bhiwandi, Thane has an attractive 1 BHK Flat f...</td>\n",
       "      <td>42 Lac</td>\n",
       "      <td>6000.0</td>\n",
       "      <td>thane</td>\n",
       "      <td>500 sqft</td>\n",
       "      <td>Ready to Move</td>\n",
       "      <td>10 out of 11</td>\n",
       "      <td>Resale</td>\n",
       "      <td>...</td>\n",
       "      <td>NaN</td>\n",
       "      <td>NaN</td>\n",
       "      <td>Srushti Siddhi Mangal Murti Complex</td>\n",
       "      <td>1</td>\n",
       "      <td>2</td>\n",
       "      <td>NaN</td>\n",
       "      <td>NaN</td>\n",
       "      <td>NaN</td>\n",
       "      <td>NaN</td>\n",
       "      <td>NaN</td>\n",
       "    </tr>\n",
       "    <tr>\n",
       "      <th>1</th>\n",
       "      <td>1</td>\n",
       "      <td>2 BHK Ready to Occupy Flat for sale in Dosti V...</td>\n",
       "      <td>One can find this stunning 2 BHK flat for sale...</td>\n",
       "      <td>98 Lac</td>\n",
       "      <td>13799.0</td>\n",
       "      <td>thane</td>\n",
       "      <td>473 sqft</td>\n",
       "      <td>Ready to Move</td>\n",
       "      <td>3 out of 22</td>\n",
       "      <td>Resale</td>\n",
       "      <td>...</td>\n",
       "      <td>East</td>\n",
       "      <td>Garden/Park</td>\n",
       "      <td>Dosti Vihar</td>\n",
       "      <td>2</td>\n",
       "      <td>NaN</td>\n",
       "      <td>1 Open</td>\n",
       "      <td>Freehold</td>\n",
       "      <td>NaN</td>\n",
       "      <td>NaN</td>\n",
       "      <td>NaN</td>\n",
       "    </tr>\n",
       "    <tr>\n",
       "      <th>2</th>\n",
       "      <td>2</td>\n",
       "      <td>2 BHK Ready to Occupy Flat for sale in Sunrise...</td>\n",
       "      <td>Up for immediate sale is a 2 BHK apartment in ...</td>\n",
       "      <td>1.40 Cr</td>\n",
       "      <td>17500.0</td>\n",
       "      <td>thane</td>\n",
       "      <td>779 sqft</td>\n",
       "      <td>Ready to Move</td>\n",
       "      <td>10 out of 29</td>\n",
       "      <td>Resale</td>\n",
       "      <td>...</td>\n",
       "      <td>East</td>\n",
       "      <td>Garden/Park</td>\n",
       "      <td>Sunrise by Kalpataru</td>\n",
       "      <td>2</td>\n",
       "      <td>NaN</td>\n",
       "      <td>1 Covered</td>\n",
       "      <td>Freehold</td>\n",
       "      <td>NaN</td>\n",
       "      <td>NaN</td>\n",
       "      <td>NaN</td>\n",
       "    </tr>\n",
       "    <tr>\n",
       "      <th>3</th>\n",
       "      <td>3</td>\n",
       "      <td>1 BHK Ready to Occupy Flat for sale Kasheli</td>\n",
       "      <td>This beautiful 1 BHK Flat is available for sal...</td>\n",
       "      <td>25 Lac</td>\n",
       "      <td>NaN</td>\n",
       "      <td>thane</td>\n",
       "      <td>530 sqft</td>\n",
       "      <td>Ready to Move</td>\n",
       "      <td>1 out of 3</td>\n",
       "      <td>Resale</td>\n",
       "      <td>...</td>\n",
       "      <td>NaN</td>\n",
       "      <td>NaN</td>\n",
       "      <td>NaN</td>\n",
       "      <td>1</td>\n",
       "      <td>1</td>\n",
       "      <td>NaN</td>\n",
       "      <td>NaN</td>\n",
       "      <td>NaN</td>\n",
       "      <td>NaN</td>\n",
       "      <td>NaN</td>\n",
       "    </tr>\n",
       "    <tr>\n",
       "      <th>4</th>\n",
       "      <td>4</td>\n",
       "      <td>2 BHK Ready to Occupy Flat for sale in TenX Ha...</td>\n",
       "      <td>This lovely 2 BHK Flat in Pokhran Road, Thane ...</td>\n",
       "      <td>1.60 Cr</td>\n",
       "      <td>18824.0</td>\n",
       "      <td>thane</td>\n",
       "      <td>635 sqft</td>\n",
       "      <td>Ready to Move</td>\n",
       "      <td>20 out of 42</td>\n",
       "      <td>Resale</td>\n",
       "      <td>...</td>\n",
       "      <td>West</td>\n",
       "      <td>Garden/Park, Main Road</td>\n",
       "      <td>TenX Habitat Raymond Realty</td>\n",
       "      <td>2</td>\n",
       "      <td>NaN</td>\n",
       "      <td>1 Covered</td>\n",
       "      <td>Co-operative Society</td>\n",
       "      <td>NaN</td>\n",
       "      <td>NaN</td>\n",
       "      <td>NaN</td>\n",
       "    </tr>\n",
       "  </tbody>\n",
       "</table>\n",
       "<p>5 rows × 21 columns</p>\n",
       "</div>"
      ],
      "text/plain": [
       "   Index                                              Title  \\\n",
       "0      0  1 BHK Ready to Occupy Flat for sale in Srushti...   \n",
       "1      1  2 BHK Ready to Occupy Flat for sale in Dosti V...   \n",
       "2      2  2 BHK Ready to Occupy Flat for sale in Sunrise...   \n",
       "3      3        1 BHK Ready to Occupy Flat for sale Kasheli   \n",
       "4      4  2 BHK Ready to Occupy Flat for sale in TenX Ha...   \n",
       "\n",
       "                                         Description Amount(in rupees)  \\\n",
       "0  Bhiwandi, Thane has an attractive 1 BHK Flat f...           42 Lac    \n",
       "1  One can find this stunning 2 BHK flat for sale...           98 Lac    \n",
       "2  Up for immediate sale is a 2 BHK apartment in ...          1.40 Cr    \n",
       "3  This beautiful 1 BHK Flat is available for sal...           25 Lac    \n",
       "4  This lovely 2 BHK Flat in Pokhran Road, Thane ...          1.60 Cr    \n",
       "\n",
       "   Price (in rupees) location Carpet Area         Status         Floor  \\\n",
       "0             6000.0    thane    500 sqft  Ready to Move  10 out of 11   \n",
       "1            13799.0    thane    473 sqft  Ready to Move   3 out of 22   \n",
       "2            17500.0    thane    779 sqft  Ready to Move  10 out of 29   \n",
       "3                NaN    thane    530 sqft  Ready to Move    1 out of 3   \n",
       "4            18824.0    thane    635 sqft  Ready to Move  20 out of 42   \n",
       "\n",
       "  Transaction  ... facing             overlooking  \\\n",
       "0      Resale  ...    NaN                     NaN   \n",
       "1      Resale  ...   East             Garden/Park   \n",
       "2      Resale  ...   East             Garden/Park   \n",
       "3      Resale  ...    NaN                     NaN   \n",
       "4      Resale  ...   West  Garden/Park, Main Road   \n",
       "\n",
       "                               Society Bathroom Balcony Car Parking  \\\n",
       "0  Srushti Siddhi Mangal Murti Complex        1       2         NaN   \n",
       "1                          Dosti Vihar        2     NaN      1 Open   \n",
       "2                 Sunrise by Kalpataru        2     NaN   1 Covered   \n",
       "3                                  NaN        1       1         NaN   \n",
       "4          TenX Habitat Raymond Realty        2     NaN   1 Covered   \n",
       "\n",
       "              Ownership Super Area Dimensions  Plot Area  \n",
       "0                   NaN        NaN        NaN        NaN  \n",
       "1              Freehold        NaN        NaN        NaN  \n",
       "2              Freehold        NaN        NaN        NaN  \n",
       "3                   NaN        NaN        NaN        NaN  \n",
       "4  Co-operative Society        NaN        NaN        NaN  \n",
       "\n",
       "[5 rows x 21 columns]"
      ]
     },
     "execution_count": 3,
     "metadata": {},
     "output_type": "execute_result"
    }
   ],
   "source": [
    "# Load the dataset\n",
    "df = pd.read_csv(\"house_prices.csv\")\n",
    "\n",
    "print(\"Shape of dataset:\", df.shape)\n",
    "print(\"Columns:\", df.columns.tolist())\n",
    "df.head()"
   ]
  },
  {
   "cell_type": "code",
   "execution_count": 4,
   "id": "6abfe80d-776e-48e7-aa91-453a1943037b",
   "metadata": {},
   "outputs": [
    {
     "name": "stdout",
     "output_type": "stream",
     "text": [
      "Remaining columns: ['Price (in rupees)', 'location', 'Carpet Area', 'Status', 'Floor', 'Transaction', 'Furnishing', 'facing', 'overlooking', 'Bathroom', 'Balcony', 'Car Parking', 'Ownership', 'Super Area', 'Dimensions', 'Plot Area']\n",
      "Shape after dropping columns: (187531, 16)\n"
     ]
    }
   ],
   "source": [
    "# Drop columns that don't add predictive value\n",
    "drop_cols = ['Index', 'Title', 'Description', 'Amount(in rupees)', 'Society']\n",
    "df = df.drop(columns=[col for col in drop_cols if col in df.columns])\n",
    "\n",
    "print(\"Remaining columns:\", df.columns.tolist())\n",
    "print(\"Shape after dropping columns:\", df.shape)"
   ]
  },
  {
   "cell_type": "code",
   "execution_count": 5,
   "id": "30f0182f-7bfa-4e4e-a40c-76f95fe350ea",
   "metadata": {},
   "outputs": [
    {
     "name": "stdout",
     "output_type": "stream",
     "text": [
      "Carpet Area converted to numeric\n",
      "Floor converted to current_floor and total_floors\n",
      "Car Parking converted to numeric\n",
      "Bathroom converted to numeric\n",
      "Balcony converted to numeric\n",
      "Super Area converted to numeric\n",
      "Dimensions converted to numeric\n",
      "Plot Area converted to numeric\n",
      "Shape after text-to-numeric conversion: (187531, 17)\n",
      "Data types after conversion:\n",
      "Price (in rupees)    float64\n",
      "location              object\n",
      "Carpet Area          float64\n",
      "Status                object\n",
      "Transaction           object\n",
      "Furnishing            object\n",
      "facing                object\n",
      "overlooking           object\n",
      "Bathroom             float64\n",
      "Balcony              float64\n",
      "Car Parking          float64\n",
      "Ownership             object\n",
      "Super Area           float64\n",
      "Dimensions           float64\n",
      "Plot Area            float64\n",
      "current_floor        float64\n",
      "total_floors         float64\n",
      "dtype: object\n"
     ]
    }
   ],
   "source": [
    "# Carpet Area: \"500 sqft\" → 500\n",
    "if 'Carpet Area' in df.columns:\n",
    "    df['Carpet Area'] = df['Carpet Area'].astype(str).str.replace('sqft', '', regex=False).str.strip()\n",
    "    df['Carpet Area'] = pd.to_numeric(df['Carpet Area'], errors='coerce')\n",
    "    print(\"Carpet Area converted to numeric\")\n",
    "\n",
    "# Floor: \"10 out of 22\" → current_floor=10, total_floors=22\n",
    "if 'Floor' in df.columns:\n",
    "    floor_extract = df['Floor'].astype(str).str.extract(r'(\\d+)\\s*out of\\s*(\\d+)')\n",
    "    df['current_floor'] = pd.to_numeric(floor_extract[0], errors='coerce')\n",
    "    df['total_floors'] = pd.to_numeric(floor_extract[1], errors='coerce')\n",
    "    df = df.drop(columns=['Floor'])\n",
    "    print(\"Floor converted to current_floor and total_floors\")\n",
    "\n",
    "# Car Parking: \"1 Covered\" → 1\n",
    "if 'Car Parking' in df.columns:\n",
    "    df['Car Parking'] = df['Car Parking'].astype(str).str.extract(r'(\\d+)')\n",
    "    df['Car Parking'] = pd.to_numeric(df['Car Parking'], errors='coerce')\n",
    "    print(\"Car Parking converted to numeric\")\n",
    "\n",
    "# Bathroom, Balcony, Super Area, Dimensions, Plot Area → numeric\n",
    "for col in ['Bathroom', 'Balcony', 'Super Area', 'Dimensions', 'Plot Area']:\n",
    "    if col in df.columns:\n",
    "        df[col] = pd.to_numeric(df[col], errors='coerce')\n",
    "        print(f\"{col} converted to numeric\")\n",
    "\n",
    "print(\"Shape after text-to-numeric conversion:\", df.shape)\n",
    "print(\"Data types after conversion:\")\n",
    "print(df.dtypes)"
   ]
  },
  {
   "cell_type": "code",
   "execution_count": 6,
   "id": "ac4526e7-9b07-40ad-ba15-b2d34e2279d8",
   "metadata": {},
   "outputs": [
    {
     "name": "stdout",
     "output_type": "stream",
     "text": [
      "Missing values after conversion:\n",
      "Price (in rupees)     17665\n",
      "location                  0\n",
      "Carpet Area           87103\n",
      "Status                  615\n",
      "Transaction              83\n",
      "Furnishing             2897\n",
      "facing                70233\n",
      "overlooking           81436\n",
      "Bathroom                863\n",
      "Balcony               48957\n",
      "Car Parking          103357\n",
      "Ownership             65517\n",
      "Super Area           187531\n",
      "Dimensions           187531\n",
      "Plot Area            187531\n",
      "current_floor         19837\n",
      "total_floors          19837\n",
      "dtype: int64\n"
     ]
    }
   ],
   "source": [
    "# Check null values in each column\n",
    "print(\"Missing values after conversion:\")\n",
    "print(df.isnull().sum())"
   ]
  },
  {
   "cell_type": "code",
   "execution_count": 7,
   "id": "afb5c627-d661-4621-be14-3561ec41c22e",
   "metadata": {},
   "outputs": [
    {
     "name": "stdout",
     "output_type": "stream",
     "text": [
      "🗑️  Dropping completely empty columns: ['Super Area', 'Dimensions', 'Plot Area']\n",
      "\n",
      "==================================================\n",
      "🔢 Imputing numeric column 'Price (in rupees)'\n",
      "🔢 Imputing numeric column 'Carpet Area'\n",
      "🔢 Imputing numeric column 'Bathroom'\n",
      "🔢 Imputing numeric column 'Balcony'\n",
      "🔢 Imputing numeric column 'Car Parking'\n",
      "🔢 Imputing numeric column 'current_floor'\n",
      "🔢 Imputing numeric column 'total_floors'\n",
      "📝 Imputing categorical column 'Status'\n",
      "📝 Imputing categorical column 'Transaction'\n",
      "📝 Imputing categorical column 'Furnishing'\n",
      "📝 Imputing categorical column 'facing'\n",
      "📝 Imputing categorical column 'overlooking'\n",
      "📝 Imputing categorical column 'Ownership'\n",
      "\n",
      "==================================================\n",
      "✅ Imputation complete!\n",
      "Shape after imputing nulls: (187531, 14)\n",
      "Missing values after imputation:\n",
      "Price (in rupees)    0\n",
      "location             0\n",
      "Carpet Area          0\n",
      "Status               0\n",
      "Transaction          0\n",
      "Furnishing           0\n",
      "facing               0\n",
      "overlooking          0\n",
      "Bathroom             0\n",
      "Balcony              0\n",
      "Car Parking          0\n",
      "Ownership            0\n",
      "current_floor        0\n",
      "total_floors         0\n",
      "dtype: int64\n"
     ]
    }
   ],
   "source": [
    "# Step 6: Handle Missing Values Safely\n",
    "\n",
    "# First, drop columns that are 100% empty\n",
    "empty_columns = []\n",
    "for col in df.columns:\n",
    "    if df[col].isnull().sum() == len(df[col]):\n",
    "        empty_columns.append(col)\n",
    "\n",
    "if empty_columns:\n",
    "    print(f\"🗑️  Dropping completely empty columns: {empty_columns}\")\n",
    "    df = df.drop(columns=empty_columns)\n",
    "\n",
    "# Now impute remaining columns\n",
    "print(\"\\n\" + \"=\"*50)\n",
    "\n",
    "# Numeric columns\n",
    "numeric_cols = df.select_dtypes(include=[np.number]).columns\n",
    "for col in numeric_cols:\n",
    "    if df[col].isnull().sum() > 0:\n",
    "        print(f\"🔢 Imputing numeric column '{col}'\")\n",
    "        df[col] = SimpleImputer(strategy=\"median\").fit_transform(df[[col]]).ravel()\n",
    "\n",
    "# Categorical columns  \n",
    "categorical_cols = df.select_dtypes(exclude=[np.number]).columns\n",
    "for col in categorical_cols:\n",
    "    if df[col].isnull().sum() > 0:\n",
    "        print(f\"📝 Imputing categorical column '{col}'\")\n",
    "        df[col] = SimpleImputer(strategy=\"most_frequent\").fit_transform(df[[col]]).ravel()\n",
    "\n",
    "print(\"\\n\" + \"=\"*50)\n",
    "print(\"✅ Imputation complete!\")\n",
    "print(\"Shape after imputing nulls:\", df.shape)\n",
    "print(\"Missing values after imputation:\")\n",
    "print(df.isnull().sum())"
   ]
  },
  {
   "cell_type": "code",
   "execution_count": 8,
   "id": "9e1cc65b-2d65-4621-b67c-389c2e8d5655",
   "metadata": {},
   "outputs": [
    {
     "name": "stdout",
     "output_type": "stream",
     "text": [
      "Price stats - Q1: 4501.5, Q3: 8452.5, IQR: 3951.0\n",
      "Lower bound: -1425.0, Upper bound: 14379.0\n",
      "Rows before outlier removal: 187531\n",
      "Rows after outlier removal: 177086\n",
      "Rows removed: 10445\n",
      "Final shape after outlier removal: (177086, 14)\n"
     ]
    }
   ],
   "source": [
    "# Handle Outliers in \"Price (in rupees)\"\n",
    "if \"Price (in rupees)\" in df.columns:\n",
    "    Q1 = df[\"Price (in rupees)\"].quantile(0.25)\n",
    "    Q3 = df[\"Price (in rupees)\"].quantile(0.75)\n",
    "    IQR = Q3 - Q1\n",
    "    lower_bound = Q1 - 1.5 * IQR\n",
    "    upper_bound = Q3 + 1.5 * IQR\n",
    "    \n",
    "    print(f\"Price stats - Q1: {Q1}, Q3: {Q3}, IQR: {IQR}\")\n",
    "    print(f\"Lower bound: {lower_bound}, Upper bound: {upper_bound}\")\n",
    "    \n",
    "    before_rows = df.shape[0]\n",
    "    df = df[(df[\"Price (in rupees)\"] >= lower_bound) & (df[\"Price (in rupees)\"] <= upper_bound)]\n",
    "    after_rows = df.shape[0]\n",
    "    \n",
    "    print(f\"Rows before outlier removal: {before_rows}\")\n",
    "    print(f\"Rows after outlier removal: {after_rows}\")\n",
    "    print(f\"Rows removed: {before_rows - after_rows}\")\n",
    "\n",
    "print(\"Final shape after outlier removal:\", df.shape)"
   ]
  },
  {
   "cell_type": "code",
   "execution_count": 9,
   "id": "00cb7b3a-da56-4046-9fe1-b781021c189f",
   "metadata": {},
   "outputs": [
    {
     "name": "stdout",
     "output_type": "stream",
     "text": [
      "Shape after dropping null target values: (177086, 14)\n",
      "X shape: (177086, 13)\n",
      "y shape: (177086,)\n"
     ]
    }
   ],
   "source": [
    "# Remove rows where target is still null (if any)\n",
    "df = df.dropna(subset=['Price (in rupees)'])\n",
    "print(\"Shape after dropping null target values:\", df.shape)\n",
    "\n",
    "# Separate features and target\n",
    "X = df.drop(\"Price (in rupees)\", axis=1)\n",
    "y = df[\"Price (in rupees)\"]\n",
    "\n",
    "print(\"X shape:\", X.shape)\n",
    "print(\"y shape:\", y.shape)"
   ]
  },
  {
   "cell_type": "code",
   "execution_count": 10,
   "id": "b63dfae7-a703-444d-9850-c1e59f1341d0",
   "metadata": {},
   "outputs": [
    {
     "name": "stdout",
     "output_type": "stream",
     "text": [
      "Numeric columns: ['Carpet Area', 'Bathroom', 'Balcony', 'Car Parking', 'current_floor', 'total_floors']\n",
      "Categorical columns: ['location', 'Status', 'Transaction', 'Furnishing', 'facing', 'overlooking', 'Ownership']\n"
     ]
    }
   ],
   "source": [
    "# Numerical and Categorical columns\n",
    "num_cols = X.select_dtypes(include=[np.number]).columns.tolist()\n",
    "cat_cols = X.select_dtypes(exclude=[np.number]).columns.tolist()\n",
    "\n",
    "print(\"Numeric columns:\", num_cols)\n",
    "print(\"Categorical columns:\", cat_cols)"
   ]
  },
  {
   "cell_type": "code",
   "execution_count": 11,
   "id": "bb09d0cd-a78d-47fe-bcea-0746b0226c3a",
   "metadata": {},
   "outputs": [
    {
     "name": "stdout",
     "output_type": "stream",
     "text": [
      "Preprocessor created successfully\n"
     ]
    }
   ],
   "source": [
    "# Pipeline for numeric columns\n",
    "numeric_transformer = Pipeline(steps=[\n",
    "    (\"imputer\", SimpleImputer(strategy=\"median\")),\n",
    "    (\"scaler\", StandardScaler())\n",
    "])\n",
    "\n",
    "# Pipeline for categorical columns\n",
    "categorical_transformer = Pipeline(steps=[\n",
    "    (\"imputer\", SimpleImputer(strategy=\"most_frequent\")),\n",
    "    (\"onehot\", OneHotEncoder(handle_unknown=\"ignore\"))\n",
    "])\n",
    "\n",
    "# Combine into ColumnTransformer\n",
    "preprocessor = ColumnTransformer(\n",
    "    transformers=[\n",
    "        (\"num\", numeric_transformer, num_cols),\n",
    "        (\"cat\", categorical_transformer, cat_cols)\n",
    "    ]\n",
    ")\n",
    "\n",
    "print(\"Preprocessor created successfully\")"
   ]
  },
  {
   "cell_type": "code",
   "execution_count": 12,
   "id": "64cc408f-6833-4e16-aabe-264cfd0f13ac",
   "metadata": {},
   "outputs": [
    {
     "name": "stdout",
     "output_type": "stream",
     "text": [
      "Training set shape: (141668, 13) (141668,)\n",
      "Testing set shape: (35418, 13) (35418,)\n"
     ]
    }
   ],
   "source": [
    "# Split the data\n",
    "X_train, X_test, y_train, y_test = train_test_split(\n",
    "    X, y, test_size=0.2, random_state=42\n",
    ")\n",
    "\n",
    "print(\"Training set shape:\", X_train.shape, y_train.shape)\n",
    "print(\"Testing set shape:\", X_test.shape, y_test.shape)"
   ]
  },
  {
   "cell_type": "code",
   "execution_count": 14,
   "id": "27731885-310e-41bd-87ff-7cd4517ba9d2",
   "metadata": {},
   "outputs": [
    {
     "name": "stdout",
     "output_type": "stream",
     "text": [
      "=== PREPROCESSING COMPLETE ===\n",
      "Final dataset shape: (177086, 14)\n",
      "Target variable stats:\n",
      "  Min: 0.0\n",
      "  Max: 14375.0\n",
      "  Mean: 6481.27\n",
      "  Std: 2785.09\n",
      "Training samples: 141668\n",
      "Testing samples: 35418\n"
     ]
    }
   ],
   "source": [
    "# Final data overview\n",
    "print(\"=== PREPROCESSING COMPLETE ===\")\n",
    "print(f\"Final dataset shape: {df.shape}\")\n",
    "print(f\"Target variable stats:\")\n",
    "print(f\"  Min: {y.min()}\")\n",
    "print(f\"  Max: {y.max()}\")\n",
    "print(f\"  Mean: {y.mean():.2f}\")\n",
    "print(f\"  Std: {y.std():.2f}\")\n",
    "print(f\"Training samples: {X_train.shape[0]}\")\n",
    "print(f\"Testing samples: {X_test.shape[0]}\")"
   ]
  },
  {
   "cell_type": "code",
   "execution_count": 15,
   "id": "6f7c0161-306b-438e-a97a-d0189fc98442",
   "metadata": {},
   "outputs": [
    {
     "name": "stdout",
     "output_type": "stream",
     "text": [
      "Preprocessed data saved as 'house_prices_processed.csv'\n",
      "Preprocessor pipeline saved as 'preprocessor.pkl'\n"
     ]
    }
   ],
   "source": [
    "#Creating pre processed data file\n",
    "df.to_csv('house_prices_processed.csv', index=False)\n",
    "print(\"Preprocessed data saved as 'house_prices_processed.csv'\")\n",
    "\n",
    "# Preprocessor pipeline\n",
    "import joblib\n",
    "joblib.dump(preprocessor, '../models/preprocessor.pkl')\n",
    "print(\"Preprocessor pipeline saved as 'preprocessor.pkl'\")"
   ]
  },
  {
   "cell_type": "code",
   "execution_count": null,
   "id": "ca7bf871-eaa4-4c6f-889e-1408970376a8",
   "metadata": {},
   "outputs": [],
   "source": []
  }
 ],
 "metadata": {
  "kernelspec": {
   "display_name": "Python 3 (ipykernel)",
   "language": "python",
   "name": "python3"
  },
  "language_info": {
   "codemirror_mode": {
    "name": "ipython",
    "version": 3
   },
   "file_extension": ".py",
   "mimetype": "text/x-python",
   "name": "python",
   "nbconvert_exporter": "python",
   "pygments_lexer": "ipython3",
   "version": "3.13.7"
  }
 },
 "nbformat": 4,
 "nbformat_minor": 5
}
