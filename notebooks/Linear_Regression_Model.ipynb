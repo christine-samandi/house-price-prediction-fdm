{
 "cells": [
  {
   "cell_type": "code",
   "id": "initial_id",
   "metadata": {
    "collapsed": true,
    "ExecuteTime": {
     "end_time": "2025-09-29T19:07:50.292131Z",
     "start_time": "2025-09-29T19:07:50.067401Z"
    }
   },
   "source": [
    "import pandas as pd\n",
    "import numpy as np\n",
    "from sklearn.linear_model import LinearRegression\n",
    "from sklearn.metrics import mean_absolute_error, mean_squared_error, r2_score\n",
    "import joblib\n",
    "import matplotlib.pyplot as plt\n",
    "import seaborn as sns"
   ],
   "outputs": [],
   "execution_count": 1
  },
  {
   "metadata": {
    "ExecuteTime": {
     "end_time": "2025-09-29T19:12:03.524361Z",
     "start_time": "2025-09-29T19:12:03.208574Z"
    }
   },
   "cell_type": "code",
   "source": [
    "# Load the preprocessed data\n",
    "df_processed = pd.read_csv('C:\\\\Users\\\\User\\\\PycharmProjects\\\\house-price-prediction-fdm\\\\house_prices_processed.csv')\n",
    "print(\"Processed data shape:\", df_processed.shape)\n",
    "\n",
    "# Load the preprocessor pipeline\n",
    "preprocessor = joblib.load('C:\\\\Users\\\\User\\\\PycharmProjects\\\\house-price-prediction-fdm\\\\models\\\\preprocessor.pkl')\n",
    "print(\"Preprocessor loaded successfully\")"
   ],
   "id": "3eb5dc9f963c9637",
   "outputs": [
    {
     "name": "stdout",
     "output_type": "stream",
     "text": [
      "Processed data shape: (177086, 14)\n",
      "Preprocessor loaded successfully\n"
     ]
    }
   ],
   "execution_count": 4
  },
  {
   "metadata": {
    "ExecuteTime": {
     "end_time": "2025-09-29T19:12:07.195592Z",
     "start_time": "2025-09-29T19:12:07.157339Z"
    }
   },
   "cell_type": "code",
   "source": [
    "# Separate features and target\n",
    "X = df_processed.drop(\"Price (in rupees)\", axis=1)\n",
    "y = df_processed[\"Price (in rupees)\"]\n",
    "\n",
    "print(\"Features shape:\", X.shape)\n",
    "print(\"Target shape:\", y.shape)"
   ],
   "id": "6f89e36d3537161a",
   "outputs": [
    {
     "name": "stdout",
     "output_type": "stream",
     "text": [
      "Features shape: (177086, 13)\n",
      "Target shape: (177086,)\n"
     ]
    }
   ],
   "execution_count": 5
  },
  {
   "metadata": {
    "ExecuteTime": {
     "end_time": "2025-09-29T19:12:09.760224Z",
     "start_time": "2025-09-29T19:12:09.700769Z"
    }
   },
   "cell_type": "code",
   "source": [
    "from sklearn.model_selection import train_test_split\n",
    "\n",
    "# Split the data into training and testing sets\n",
    "X_train, X_test, y_train, y_test = train_test_split(\n",
    "    X, y, test_size=0.2, random_state=42, shuffle=True\n",
    ")\n",
    "\n",
    "print(\"Training set - Features:\", X_train.shape, \"Target:\", y_train.shape)\n",
    "print(\"Testing set - Features:\", X_test.shape, \"Target:\", y_test.shape)"
   ],
   "id": "1ca7c8389dc632cc",
   "outputs": [
    {
     "name": "stdout",
     "output_type": "stream",
     "text": [
      "Training set - Features: (141668, 13) Target: (141668,)\n",
      "Testing set - Features: (35418, 13) Target: (35418,)\n"
     ]
    }
   ],
   "execution_count": 6
  },
  {
   "metadata": {
    "ExecuteTime": {
     "end_time": "2025-09-29T19:12:12.794257Z",
     "start_time": "2025-09-29T19:12:12.336755Z"
    }
   },
   "cell_type": "code",
   "source": [
    "# Transform the features using the preprocessor\n",
    "print(\"Transforming training features...\")\n",
    "X_train_transformed = preprocessor.fit_transform(X_train)\n",
    "\n",
    "print(\"Transforming testing features...\")\n",
    "X_test_transformed = preprocessor.transform(X_test)\n",
    "\n",
    "print(\"Transformed training features shape:\", X_train_transformed.shape)\n",
    "print(\"Transformed testing features shape:\", X_test_transformed.shape)"
   ],
   "id": "99b56a2b6bd6bef4",
   "outputs": [
    {
     "name": "stdout",
     "output_type": "stream",
     "text": [
      "Transforming training features...\n",
      "Transforming testing features...\n",
      "Transformed training features shape: (141668, 125)\n",
      "Transformed testing features shape: (35418, 125)\n"
     ]
    }
   ],
   "execution_count": 7
  },
  {
   "metadata": {
    "ExecuteTime": {
     "end_time": "2025-09-29T19:12:21.308750Z",
     "start_time": "2025-09-29T19:12:20.140226Z"
    }
   },
   "cell_type": "code",
   "source": [
    "# Initialize Linear Regression model\n",
    "linear_model = LinearRegression()\n",
    "\n",
    "print(\"Training Linear Regression model...\")\n",
    "# Train the model\n",
    "linear_model.fit(X_train_transformed, y_train)\n",
    "\n",
    "print(\"Linear Regression model training completed!\")"
   ],
   "id": "6976dde5d81cac53",
   "outputs": [
    {
     "name": "stdout",
     "output_type": "stream",
     "text": [
      "Training Linear Regression model...\n",
      "Linear Regression model training completed!\n"
     ]
    }
   ],
   "execution_count": 8
  },
  {
   "metadata": {
    "ExecuteTime": {
     "end_time": "2025-09-29T19:12:25.141309Z",
     "start_time": "2025-09-29T19:12:25.130599Z"
    }
   },
   "cell_type": "code",
   "source": [
    "# Make predictions on training and testing sets\n",
    "y_train_pred = linear_model.predict(X_train_transformed)\n",
    "y_test_pred = linear_model.predict(X_test_transformed)\n",
    "\n",
    "print(\"Predictions completed!\")"
   ],
   "id": "fd981251fc987499",
   "outputs": [
    {
     "name": "stdout",
     "output_type": "stream",
     "text": [
      "Predictions completed!\n"
     ]
    }
   ],
   "execution_count": 9
  },
  {
   "metadata": {
    "ExecuteTime": {
     "end_time": "2025-09-29T19:12:42.067529Z",
     "start_time": "2025-09-29T19:12:42.052434Z"
    }
   },
   "cell_type": "code",
   "source": [
    "def evaluate_model(y_true, y_pred, dataset_name):\n",
    "    \"\"\"Evaluate model performance metrics\"\"\"\n",
    "    mae = mean_absolute_error(y_true, y_pred)\n",
    "    mse = mean_squared_error(y_true, y_pred)\n",
    "    rmse = np.sqrt(mse)\n",
    "    r2 = r2_score(y_true, y_pred)\n",
    "\n",
    "    print(f\"\\n{dataset_name} Set Performance:\")\n",
    "    print(f\"Mean Absolute Error (MAE): {mae:.2f}\")\n",
    "    print(f\"Mean Squared Error (MSE): {mse:.2f}\")\n",
    "    print(f\"Root Mean Squared Error (RMSE): {rmse:.2f}\")\n",
    "    print(f\"R² Score: {r2:.4f}\")\n",
    "\n",
    "    return mae, mse, rmse, r2\n",
    "\n",
    "# Evaluate on training set\n",
    "train_mae, train_mse, train_rmse, train_r2 = evaluate_model(y_train, y_train_pred, \"Training\")\n",
    "\n",
    "# Evaluate on testing set\n",
    "test_mae, test_mse, test_rmse, test_r2 = evaluate_model(y_test, y_test_pred, \"Testing\")"
   ],
   "id": "e7fa56aa2e8e89b6",
   "outputs": [
    {
     "name": "stdout",
     "output_type": "stream",
     "text": [
      "\n",
      "Training Set Performance:\n",
      "Mean Absolute Error (MAE): 1574.86\n",
      "Mean Squared Error (MSE): 4353764.80\n",
      "Root Mean Squared Error (RMSE): 2086.57\n",
      "R² Score: 0.4385\n",
      "\n",
      "Testing Set Performance:\n",
      "Mean Absolute Error (MAE): 1575.99\n",
      "Mean Squared Error (MSE): 4337338.40\n",
      "Root Mean Squared Error (RMSE): 2082.63\n",
      "R² Score: 0.4415\n"
     ]
    }
   ],
   "execution_count": 10
  }
 ],
 "metadata": {
  "kernelspec": {
   "display_name": "Python 3",
   "language": "python",
   "name": "python3"
  },
  "language_info": {
   "codemirror_mode": {
    "name": "ipython",
    "version": 2
   },
   "file_extension": ".py",
   "mimetype": "text/x-python",
   "name": "python",
   "nbconvert_exporter": "python",
   "pygments_lexer": "ipython2",
   "version": "2.7.6"
  }
 },
 "nbformat": 4,
 "nbformat_minor": 5
}
