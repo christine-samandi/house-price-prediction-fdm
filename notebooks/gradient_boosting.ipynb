{
 "cells": [
  {
   "metadata": {
    "ExecuteTime": {
     "end_time": "2025-09-30T08:44:11.159104Z",
     "start_time": "2025-09-30T08:44:10.788330Z"
    }
   },
   "cell_type": "code",
   "source": [
    "#import libraries\n",
    "import pandas as pd\n",
    "import joblib\n",
    "import numpy as np\n",
    "from sklearn.ensemble import GradientBoostingRegressor\n",
    "from sklearn.model_selection import train_test_split, GridSearchCV\n",
    "from sklearn.metrics import mean_squared_error, mean_absolute_error, r2_score"
   ],
   "id": "6d90ed7358a32869",
   "outputs": [],
   "execution_count": 1
  },
  {
   "metadata": {
    "ExecuteTime": {
     "end_time": "2025-09-30T08:44:12.159176Z",
     "start_time": "2025-09-30T08:44:12.021153Z"
    }
   },
   "cell_type": "code",
   "source": [
    "#load preprocessed data\n",
    "df_preprocessed = pd.read_csv(\"../house_prices_processed.csv\")\n",
    "\n",
    "X = df_preprocessed.drop(\"Price (in rupees)\", axis=1)\n",
    "y = df_preprocessed[\"Price (in rupees)\"]"
   ],
   "id": "95eafca795f426ae",
   "outputs": [],
   "execution_count": 2
  },
  {
   "metadata": {
    "ExecuteTime": {
     "end_time": "2025-09-30T08:44:13.616129Z",
     "start_time": "2025-09-30T08:44:13.608385Z"
    }
   },
   "cell_type": "code",
   "source": [
    "#load preprocessor\n",
    "preprocessor = joblib.load('../models/preprocessor.pkl')"
   ],
   "id": "ea24e321a6f90d67",
   "outputs": [],
   "execution_count": 3
  },
  {
   "metadata": {
    "ExecuteTime": {
     "end_time": "2025-09-30T08:44:14.858307Z",
     "start_time": "2025-09-30T08:44:14.832107Z"
    }
   },
   "cell_type": "code",
   "source": [
    "#Split the data into train and test sets\n",
    "X_train, X_test, y_train, y_test = train_test_split(\n",
    "    X, y, test_size=0.2, random_state=42\n",
    ")\n",
    "print(f\"Training set: {X_train.shape}\")\n",
    "print(f\"Testing set: {X_test.shape}\")"
   ],
   "id": "3b19c3f8221b67dc",
   "outputs": [
    {
     "name": "stdout",
     "output_type": "stream",
     "text": [
      "Training set: (141668, 13)\n",
      "Testing set: (35418, 13)\n"
     ]
    }
   ],
   "execution_count": 4
  },
  {
   "metadata": {
    "ExecuteTime": {
     "end_time": "2025-09-30T08:44:16.696759Z",
     "start_time": "2025-09-30T08:44:16.395853Z"
    }
   },
   "cell_type": "code",
   "source": [
    "# Transform the features using the preprocessor\n",
    "X_train_transformed = preprocessor.fit_transform(X_train)\n",
    "X_test_transformed = preprocessor.transform(X_test)\n",
    "\n",
    "print(f\"Transformed training features: {X_train_transformed.shape}\")\n",
    "print(f\"Transformed testing features: {X_test_transformed.shape}\")"
   ],
   "id": "eb43133b8c1d9134",
   "outputs": [
    {
     "name": "stdout",
     "output_type": "stream",
     "text": [
      "Transformed training features: (141668, 125)\n",
      "Transformed testing features: (35418, 125)\n"
     ]
    }
   ],
   "execution_count": 5
  },
  {
   "metadata": {
    "ExecuteTime": {
     "end_time": "2025-09-30T08:44:34.358019Z",
     "start_time": "2025-09-30T08:44:18.547270Z"
    }
   },
   "cell_type": "code",
   "source": [
    "# Standard Gradient Boosting\n",
    "gb_standard = GradientBoostingRegressor(\n",
    "            n_estimators=100,\n",
    "            learning_rate=0.1,\n",
    "            max_depth=6,\n",
    "            min_samples_split=20,\n",
    "            min_samples_leaf=10,\n",
    "            random_state=42\n",
    "        )\n",
    "gb_standard.fit(X_train_transformed, y_train)\n",
    "print(\"Gradient Boosting training completed!\")\n"
   ],
   "id": "d2b27577e6f79a9a",
   "outputs": [
    {
     "name": "stdout",
     "output_type": "stream",
     "text": [
      "Gradient Boosting training completed!\n"
     ]
    }
   ],
   "execution_count": 6
  },
  {
   "metadata": {
    "ExecuteTime": {
     "end_time": "2025-09-30T08:44:41.203320Z",
     "start_time": "2025-09-30T08:44:40.705611Z"
    }
   },
   "cell_type": "code",
   "source": [
    "# Make predictions\n",
    "y_pred_gb_train = gb_standard.predict(X_train_transformed)\n",
    "y_pred_gb = gb_standard.predict(X_test_transformed)"
   ],
   "id": "d4ed3f39cb85d49b",
   "outputs": [],
   "execution_count": 7
  },
  {
   "metadata": {
    "ExecuteTime": {
     "end_time": "2025-09-30T08:44:42.487939Z",
     "start_time": "2025-09-30T08:44:42.472927Z"
    }
   },
   "cell_type": "code",
   "source": [
    "# Evaluate gradient boosting\n",
    "gb_standard_mae_train = mean_absolute_error(y_train, y_pred_gb_train)\n",
    "gb_standard_mse_train = mean_squared_error(y_train, y_pred_gb_train)\n",
    "gb_standard_rmse_train = np.sqrt(gb_standard_mse_train)\n",
    "gb_standard_r2_train = r2_score(y_train, y_pred_gb_train)\n",
    "\n",
    "print(\"Standard Gradient Boosting Train Results:\")\n",
    "print(f\"Train MAE: {gb_standard_mae_train:.2f}\")\n",
    "print(f\"Train MSE: {gb_standard_mse_train:.2f}\")\n",
    "print(f\"Train RMSE: {gb_standard_rmse_train:.2f}\")\n",
    "print(f\"Train R² Score: {gb_standard_r2_train:.4f}\")\n",
    "\n",
    "gb_standard_mae = mean_absolute_error(y_test, y_pred_gb)\n",
    "gb_standard_mse = mean_squared_error(y_test, y_pred_gb)\n",
    "gb_standard_rmse = np.sqrt(gb_standard_mse)\n",
    "gb_standard_r2 = r2_score(y_test, y_pred_gb)\n",
    "\n",
    "print(\"\\nStandard Gradient Boosting Test Results:\")\n",
    "print(f\"Test MAE: {gb_standard_mae:.2f}\")\n",
    "print(f\"Test MSE: {gb_standard_mse:.2f}\")\n",
    "print(f\"Test RMSE: {gb_standard_rmse:.2f}\")\n",
    "print(f\"Test R² Score: {gb_standard_r2:.4f}\")\n"
   ],
   "id": "9d16e0dba2535b5d",
   "outputs": [
    {
     "name": "stdout",
     "output_type": "stream",
     "text": [
      "Standard Gradient Boosting Train Results:\n",
      "Train MAE: 921.27\n",
      "Train MSE: 1761204.13\n",
      "Train RMSE: 1327.10\n",
      "Train R² Score: 0.7729\n",
      "\n",
      "Standard Gradient Boosting Test Results:\n",
      "Test MAE: 932.84\n",
      "Test MSE: 1817183.89\n",
      "Test RMSE: 1348.03\n",
      "Test R² Score: 0.7660\n"
     ]
    }
   ],
   "execution_count": 8
  },
  {
   "metadata": {
    "ExecuteTime": {
     "end_time": "2025-09-30T08:44:45.205498Z",
     "start_time": "2025-09-30T08:44:45.193947Z"
    }
   },
   "cell_type": "code",
   "source": [
    "# Save Gradient Boosting model\n",
    "joblib.dump(gb_standard, '../models/gradient_boosting_model.pkl')\n",
    "print(\"\\nGradient Boosting model saved as 'gradient_boosting_model.pkl'\")"
   ],
   "id": "a3f968cf83e846e5",
   "outputs": [
    {
     "name": "stdout",
     "output_type": "stream",
     "text": [
      "\n",
      "Gradient Boosting model saved as 'gradient_boosting_model.pkl'\n"
     ]
    }
   ],
   "execution_count": 9
  },
  {
   "metadata": {},
   "cell_type": "code",
   "outputs": [],
   "execution_count": null,
   "source": "",
   "id": "da237740938c43ad"
  }
 ],
 "metadata": {
  "kernelspec": {
   "display_name": "Python 3",
   "language": "python",
   "name": "python3"
  },
  "language_info": {
   "codemirror_mode": {
    "name": "ipython",
    "version": 2
   },
   "file_extension": ".py",
   "mimetype": "text/x-python",
   "name": "python",
   "nbconvert_exporter": "python",
   "pygments_lexer": "ipython2",
   "version": "2.7.6"
  }
 },
 "nbformat": 4,
 "nbformat_minor": 5
}
