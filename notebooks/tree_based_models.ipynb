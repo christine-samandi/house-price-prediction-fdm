{
 "cells": [
  {
   "cell_type": "code",
   "id": "6ac3ee9e-ea68-4dc8-8a7f-59fab95e5edb",
   "metadata": {
    "ExecuteTime": {
     "end_time": "2025-10-02T14:49:16.584655Z",
     "start_time": "2025-10-02T14:49:14.686720Z"
    }
   },
   "source": [
    "#import libraries\n",
    "import pandas as pd\n",
    "import numpy as np\n",
    "import joblib\n",
    "from sklearn.tree import DecisionTreeRegressor\n",
    "from sklearn.ensemble import RandomForestRegressor\n",
    "from sklearn.metrics import mean_absolute_error, mean_squared_error, r2_score\n",
    "from sklearn.model_selection import train_test_split\n",
    "from sklearn.pipeline import Pipeline"
   ],
   "outputs": [],
   "execution_count": 1
  },
  {
   "cell_type": "code",
   "id": "a278bc69-e054-4350-8b3d-47711502f27e",
   "metadata": {
    "ExecuteTime": {
     "end_time": "2025-10-02T14:49:42.458056Z",
     "start_time": "2025-10-02T14:49:42.096680Z"
    }
   },
   "source": [
    "#load preprocessed data\n",
    "df_preprocessed = pd.read_csv(\"../house_prices_processed.csv\")\n",
    "\n",
    "X = df_preprocessed.drop(\"Price (in rupees)\", axis=1)\n",
    "y = df_preprocessed[\"Price (in rupees)\"]"
   ],
   "outputs": [],
   "execution_count": 2
  },
  {
   "cell_type": "code",
   "id": "b146b97e-0923-4fcb-b258-25261618826e",
   "metadata": {
    "ExecuteTime": {
     "end_time": "2025-10-02T14:49:45.044956Z",
     "start_time": "2025-10-02T14:49:45.038160Z"
    }
   },
   "source": [
    "#load preprocessor\n",
    "preprocessor = joblib.load('../models/preprocessor.pkl')\n"
   ],
   "outputs": [],
   "execution_count": 3
  },
  {
   "cell_type": "code",
   "id": "c2fb520e-ea99-4d15-8d53-f68d4ac9604b",
   "metadata": {
    "ExecuteTime": {
     "end_time": "2025-10-02T14:49:47.011200Z",
     "start_time": "2025-10-02T14:49:46.960774Z"
    }
   },
   "source": [
    "#Split the data into train and test sets\n",
    "X_train, X_test, y_train, y_test = train_test_split(\n",
    "    X, y, test_size=0.2, random_state=42\n",
    ")\n",
    "print(f\"Training set: {X_train.shape}\")\n",
    "print(f\"Testing set: {X_test.shape}\")"
   ],
   "outputs": [
    {
     "name": "stdout",
     "output_type": "stream",
     "text": [
      "Training set: (141668, 13)\n",
      "Testing set: (35418, 13)\n"
     ]
    }
   ],
   "execution_count": 4
  },
  {
   "cell_type": "code",
   "id": "2eeac47b-edae-4edf-9ecc-4294e7f6ec6b",
   "metadata": {
    "ExecuteTime": {
     "end_time": "2025-10-02T14:49:54.676822Z",
     "start_time": "2025-10-02T14:49:54.673787Z"
    }
   },
   "source": [
    "#Transform the features using the preprocessor\n",
    "#X_train_transformed = preprocessor.transform(X_train)\n",
    "#X_test_transformed = preprocessor.transform(X_test)\n",
    "\n",
    "#print(f\"Transformed training features: {X_train_transformed.shape}\")\n",
    "#print(f\"Transformed testing features: {X_test_transformed.shape}\")"
   ],
   "outputs": [],
   "execution_count": 5
  },
  {
   "cell_type": "code",
   "id": "12856f7b-c383-4b84-a431-142d4ef81c2a",
   "metadata": {
    "ExecuteTime": {
     "end_time": "2025-10-02T14:50:01.734034Z",
     "start_time": "2025-10-02T14:50:01.730596Z"
    }
   },
   "source": [
    "# Initialize and train Decision Tree\n",
    "dt_model = DecisionTreeRegressor(\n",
    "    random_state=42,\n",
    "    max_depth=10,  # Limit depth to prevent overfitting\n",
    "    min_samples_split=20,\n",
    "    min_samples_leaf=10\n",
    ")"
   ],
   "outputs": [],
   "execution_count": 6
  },
  {
   "metadata": {
    "ExecuteTime": {
     "end_time": "2025-10-02T14:50:04.217291Z",
     "start_time": "2025-10-02T14:50:04.213585Z"
    }
   },
   "cell_type": "code",
   "source": [
    "dt_pipeline = Pipeline([\n",
    "    (\"preprocessor\", preprocessor),\n",
    "    (\"model\", dt_model)\n",
    "])"
   ],
   "id": "2840429e2cabb915",
   "outputs": [],
   "execution_count": 7
  },
  {
   "metadata": {
    "ExecuteTime": {
     "end_time": "2025-10-02T14:50:07.600641Z",
     "start_time": "2025-10-02T14:50:05.471661Z"
    }
   },
   "cell_type": "code",
   "source": [
    "# Train pipeline\n",
    "dt_pipeline.fit(X_train, y_train)\n",
    "print(\"Decision Tree model training completed!\")"
   ],
   "id": "f2d0dd9037f64604",
   "outputs": [
    {
     "name": "stdout",
     "output_type": "stream",
     "text": [
      "Decision Tree model training completed!\n"
     ]
    }
   ],
   "execution_count": 8
  },
  {
   "cell_type": "code",
   "id": "d48b0385-b292-425e-8f59-1d57468be300",
   "metadata": {
    "ExecuteTime": {
     "end_time": "2025-10-02T14:50:15.437020Z",
     "start_time": "2025-10-02T14:50:15.032479Z"
    }
   },
   "source": [
    "# Make predictions\n",
    "y_pred_dt_train = dt_pipeline.predict(X_train)\n",
    "y_pred_dt = dt_pipeline.predict(X_test)"
   ],
   "outputs": [],
   "execution_count": 9
  },
  {
   "cell_type": "code",
   "id": "14c5f1b0-c81c-4c8b-9e88-d22314adab83",
   "metadata": {
    "ExecuteTime": {
     "end_time": "2025-10-02T14:50:20.924285Z",
     "start_time": "2025-10-02T14:50:20.906571Z"
    }
   },
   "source": [
    "# Evaluate Decision Tree\n",
    "dt_mae_train = mean_absolute_error(y_train, y_pred_dt_train)\n",
    "dt_rmse_train = np.sqrt(mean_squared_error(y_train, y_pred_dt_train))\n",
    "dt_r2_train = r2_score(y_train, y_pred_dt_train)\n",
    "\n",
    "print(\"Decision Tree Train Results:\")\n",
    "print(f\"Train MAE: {dt_mae_train:.2f}\")\n",
    "print(f\"Train RMSE: {dt_rmse_train:.2f}\")\n",
    "print(f\"Train R² Score: {dt_r2_train:.4f}\")\n",
    "\n",
    "dt_mae = mean_absolute_error(y_test, y_pred_dt)\n",
    "dt_rmse = np.sqrt(mean_squared_error(y_test, y_pred_dt))\n",
    "dt_r2 = r2_score(y_test, y_pred_dt)\n",
    "\n",
    "print(\"\\nDecision Tree Test Results:\")\n",
    "print(f\"Test MAE: {dt_mae:.2f}\")\n",
    "print(f\"Test RMSE: {dt_rmse:.2f}\")\n",
    "print(f\"Test R² Score: {dt_r2:.4f}\")\n"
   ],
   "outputs": [
    {
     "name": "stdout",
     "output_type": "stream",
     "text": [
      "Decision Tree Train Results:\n",
      "Train MAE: 953.01\n",
      "Train RMSE: 1511.02\n",
      "Train R² Score: 0.7056\n",
      "\n",
      "Decision Tree Test Results:\n",
      "Test MAE: 967.59\n",
      "Test RMSE: 1545.06\n",
      "Test R² Score: 0.6926\n"
     ]
    }
   ],
   "execution_count": 10
  },
  {
   "cell_type": "code",
   "id": "da56cbd0-9aa4-4560-9572-1eacafc04b26",
   "metadata": {
    "ExecuteTime": {
     "end_time": "2025-10-02T14:50:23.771174Z",
     "start_time": "2025-10-02T14:50:23.767547Z"
    }
   },
   "source": [
    "# Feature Importance Analysis for Decision Tree\n",
    "# Get feature names after preprocessing\n",
    "#feature_names = []\n",
    "#for name, transformer, features in preprocessor.transformers_:\n",
    "    #if name == 'num':\n",
    "        #feature_names.extend(features)\n",
    "    #elif name == 'cat':\n",
    "        # Get one-hot encoded feature names\n",
    "        #cat_features = preprocessor.named_transformers_['cat'].named_steps['onehot'].get_feature_names_out(features)\n",
    "        #feature_names.extend(cat_features)\n",
    "\n",
    "# Decision Tree Feature Importance\n",
    "#dt_importance_df = pd.DataFrame({\n",
    "    #'feature': feature_names,\n",
    "    #'importance': dt_model.feature_importances_\n",
    "#}).sort_values('importance', ascending=False)\n",
    "\n",
    "#print(\"Top 15 Most Important Features (Decision Tree):\")\n",
    "#print(dt_importance_df.head(15))"
   ],
   "outputs": [],
   "execution_count": 11
  },
  {
   "cell_type": "code",
   "id": "b4b5daa1-b32e-4eb1-859d-a492fd791f2e",
   "metadata": {
    "ExecuteTime": {
     "end_time": "2025-10-02T14:50:25.767784Z",
     "start_time": "2025-10-02T14:50:25.764946Z"
    }
   },
   "source": [
    "# Plot Decision Tree Feature Importance\n",
    "#plt.figure(figsize=(12, 8))\n",
    "#sns.barplot(data=dt_importance_df.head(15), y='feature', x='importance', palette='viridis')\n",
    "#plt.title('Top 15 Feature Importances - Decision Tree', fontsize=16, fontweight='bold')\n",
    "#plt.xlabel('Importance Score', fontsize=12)\n",
    "#plt.ylabel('Features', fontsize=12)\n",
    "#plt.tight_layout()\n",
    "#plt.show()"
   ],
   "outputs": [],
   "execution_count": 12
  },
  {
   "cell_type": "code",
   "id": "7c1df926-4003-4d6e-b293-f9af85e7f516",
   "metadata": {
    "ExecuteTime": {
     "end_time": "2025-10-02T14:50:29.557910Z",
     "start_time": "2025-10-02T14:50:29.550317Z"
    }
   },
   "source": [
    "# Save pipeline\n",
    "joblib.dump(dt_pipeline, '../models/decision_tree_pipeline.pkl')\n",
    "print(\"Decision Tree pipeline saved as 'decision_tree_pipeline.pkl'\")"
   ],
   "outputs": [
    {
     "name": "stdout",
     "output_type": "stream",
     "text": [
      "Decision Tree pipeline saved as 'decision_tree_pipeline.pkl'\n"
     ]
    }
   ],
   "execution_count": 13
  },
  {
   "cell_type": "code",
   "id": "5341e71f-7245-4643-b15d-5b1463e20660",
   "metadata": {
    "ExecuteTime": {
     "end_time": "2025-10-02T14:50:32.354051Z",
     "start_time": "2025-10-02T14:50:32.349529Z"
    }
   },
   "source": [
    "# Initialize and train Random Forest model\n",
    "rf_model = RandomForestRegressor(\n",
    "    n_estimators=100,\n",
    "    random_state=42,\n",
    "    max_depth=15,\n",
    "    min_samples_split=15,\n",
    "    min_samples_leaf=5,\n",
    "    n_jobs=-1  # Use all available cores\n",
    ")\n"
   ],
   "outputs": [],
   "execution_count": 14
  },
  {
   "metadata": {
    "ExecuteTime": {
     "end_time": "2025-10-02T14:50:35.004190Z",
     "start_time": "2025-10-02T14:50:35.000474Z"
    }
   },
   "cell_type": "code",
   "source": [
    "# Build pipeline\n",
    "rf_pipeline = Pipeline([\n",
    "    (\"preprocessor\", preprocessor),\n",
    "    (\"model\", rf_model)\n",
    "])"
   ],
   "id": "8219c7347485b04e",
   "outputs": [],
   "execution_count": 15
  },
  {
   "metadata": {
    "ExecuteTime": {
     "end_time": "2025-10-02T14:51:14.782598Z",
     "start_time": "2025-10-02T14:50:36.535372Z"
    }
   },
   "cell_type": "code",
   "source": [
    "# Train pipeline\n",
    "rf_pipeline.fit(X_train, y_train)\n",
    "print(\"Random Forest model training completed!\")"
   ],
   "id": "a135d51a48e68c2",
   "outputs": [
    {
     "name": "stdout",
     "output_type": "stream",
     "text": [
      "Random Forest model training completed!\n"
     ]
    }
   ],
   "execution_count": 16
  },
  {
   "cell_type": "code",
   "id": "019bc5d7-401b-43f9-a9e0-006006dc25c9",
   "metadata": {
    "ExecuteTime": {
     "end_time": "2025-10-02T14:51:43.102278Z",
     "start_time": "2025-10-02T14:51:42.234841Z"
    }
   },
   "source": [
    "# Make predictions\n",
    "y_pred_rf_train = rf_pipeline.predict(X_train)\n",
    "y_pred_rf = rf_pipeline.predict(X_test)"
   ],
   "outputs": [],
   "execution_count": 17
  },
  {
   "cell_type": "code",
   "id": "cf2a9ebc-1994-4d30-aa03-b4a1421c2182",
   "metadata": {
    "ExecuteTime": {
     "end_time": "2025-10-02T14:51:45.303906Z",
     "start_time": "2025-10-02T14:51:45.287635Z"
    }
   },
   "source": [
    "# Evaluate Random Forest\n",
    "rf_mae_train = mean_absolute_error(y_train, y_pred_rf_train)\n",
    "rf_rmse_train = np.sqrt(mean_squared_error(y_train, y_pred_rf_train))\n",
    "rf_r2_train = r2_score(y_train, y_pred_rf_train)\n",
    "\n",
    "print(\"Random Forest Train Results:\")\n",
    "print(f\"Train MAE: {rf_mae_train:.2f}\")\n",
    "print(f\"Train RMSE: {rf_rmse_train:.2f}\")\n",
    "print(f\"Train R² Score: {rf_r2_train:.4f}\")\n",
    "\n",
    "rf_mae = mean_absolute_error(y_test, y_pred_rf)\n",
    "rf_rmse = np.sqrt(mean_squared_error(y_test, y_pred_rf))\n",
    "rf_r2 = r2_score(y_test, y_pred_rf)\n",
    "\n",
    "print(\"\\nRandom Forest Test Results:\")\n",
    "print(f\"Test MAE: {rf_mae:.2f}\")\n",
    "print(f\"Test RMSE: {rf_rmse:.2f}\")\n",
    "print(f\"Test R² Score: {rf_r2:.4f}\")\n"
   ],
   "outputs": [
    {
     "name": "stdout",
     "output_type": "stream",
     "text": [
      "Random Forest Train Results:\n",
      "Train MAE: 749.56\n",
      "Train RMSE: 1266.57\n",
      "Train R² Score: 0.7931\n",
      "\n",
      "Random Forest Test Results:\n",
      "Test MAE: 773.49\n",
      "Test RMSE: 1316.56\n",
      "Test R² Score: 0.7768\n"
     ]
    }
   ],
   "execution_count": 18
  },
  {
   "cell_type": "code",
   "id": "4de2d182-0727-43b2-927d-b2cf4618bbc5",
   "metadata": {
    "ExecuteTime": {
     "end_time": "2025-10-02T14:51:54.460554Z",
     "start_time": "2025-10-02T14:51:54.457101Z"
    }
   },
   "source": [
    "# Feature Importance Analysis for Random Forest\n",
    "# Get feature names after preprocessing (if not already defined)\n",
    "#feature_names = []\n",
    "#for name, transformer, features in preprocessor.transformers_:\n",
    "    #if name == 'num':\n",
    "        #feature_names.extend(features)\n",
    "    #elif name == 'cat':\n",
    "        # Get one-hot encoded feature names\n",
    "        #cat_features = preprocessor.named_transformers_['cat'].named_steps['onehot'].get_feature_names_out(features)\n",
    "        #feature_names.extend(cat_features)\n",
    "\n",
    "# Random Forest Feature Importance\n",
    "#rf_importance_df = pd.DataFrame({\n",
    "    #'feature': feature_names,\n",
    "    #'importance': rf_model.feature_importances_\n",
    "#}).sort_values('importance', ascending=False)\n",
    "\n",
    "#print(\"Top 15 Most Important Features (Random Forest):\")\n",
    "#print(rf_importance_df.head(15))"
   ],
   "outputs": [],
   "execution_count": 19
  },
  {
   "cell_type": "code",
   "id": "34bf2a5b-3375-4e68-a957-2821440b6dc6",
   "metadata": {
    "ExecuteTime": {
     "end_time": "2025-10-02T14:51:55.470252Z",
     "start_time": "2025-10-02T14:51:55.466681Z"
    }
   },
   "source": [
    "# Plot Random Forest Feature Importance\n",
    "#plt.figure(figsize=(12, 8))\n",
    "#sns.barplot(data=rf_importance_df.head(15), y='feature', x='importance', palette='plasma')\n",
    "#plt.title('Top 15 Feature Importances - Random Forest', fontsize=16, fontweight='bold')\n",
    "#plt.xlabel('Importance Score', fontsize=12)\n",
    "#plt.ylabel('Features', fontsize=12)\n",
    "#plt.tight_layout()\n",
    "#plt.show()"
   ],
   "outputs": [],
   "execution_count": 20
  },
  {
   "cell_type": "code",
   "id": "c2d32cf8-4631-4b44-ae8d-97fdbfa49f3e",
   "metadata": {
    "ExecuteTime": {
     "end_time": "2025-10-02T14:51:58.112273Z",
     "start_time": "2025-10-02T14:51:58.062508Z"
    }
   },
   "source": [
    "# Save pipeline\n",
    "joblib.dump(rf_pipeline, '../models/random_forest_pipeline.pkl')\n",
    "print(\"Random Forest pipeline saved as 'random_forest_pipeline.pkl'\")"
   ],
   "outputs": [
    {
     "name": "stdout",
     "output_type": "stream",
     "text": [
      "Random Forest pipeline saved as 'random_forest_pipeline.pkl'\n"
     ]
    }
   ],
   "execution_count": 21
  },
  {
   "metadata": {},
   "cell_type": "code",
   "outputs": [],
   "execution_count": null,
   "source": "",
   "id": "85c49b4d9354790f"
  }
 ],
 "metadata": {
  "kernelspec": {
   "display_name": "Python 3 (ipykernel)",
   "language": "python",
   "name": "python3"
  },
  "language_info": {
   "codemirror_mode": {
    "name": "ipython",
    "version": 3
   },
   "file_extension": ".py",
   "mimetype": "text/x-python",
   "name": "python",
   "nbconvert_exporter": "python",
   "pygments_lexer": "ipython3",
   "version": "3.12.7"
  }
 },
 "nbformat": 4,
 "nbformat_minor": 5
}
