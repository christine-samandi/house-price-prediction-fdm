{
 "cells": [
  {
   "cell_type": "code",
   "id": "6ac3ee9e-ea68-4dc8-8a7f-59fab95e5edb",
   "metadata": {
    "ExecuteTime": {
     "end_time": "2025-09-30T06:31:52.076679Z",
     "start_time": "2025-09-30T06:31:52.072740Z"
    }
   },
   "source": [
    "#import libraries\n",
    "import pandas as pd\n",
    "import numpy as np\n",
    "import joblib\n",
    "from sklearn.tree import DecisionTreeRegressor\n",
    "from sklearn.ensemble import RandomForestRegressor\n",
    "from sklearn.metrics import mean_absolute_error, mean_squared_error, r2_score\n",
    "import matplotlib.pyplot as plt\n",
    "import seaborn as sns\n",
    "from sklearn.model_selection import train_test_split "
   ],
   "outputs": [],
   "execution_count": 34
  },
  {
   "cell_type": "code",
   "id": "a278bc69-e054-4350-8b3d-47711502f27e",
   "metadata": {
    "ExecuteTime": {
     "end_time": "2025-09-30T06:31:54.038474Z",
     "start_time": "2025-09-30T06:31:53.865934Z"
    }
   },
   "source": [
    "#load preprocessed data\n",
    "df_preprocessed = pd.read_csv(\"../house_prices_processed.csv\")\n",
    "\n",
    "X = df_preprocessed.drop(\"Price (in rupees)\", axis=1)\n",
    "y = df_preprocessed[\"Price (in rupees)\"]"
   ],
   "outputs": [],
   "execution_count": 35
  },
  {
   "cell_type": "code",
   "id": "b146b97e-0923-4fcb-b258-25261618826e",
   "metadata": {
    "ExecuteTime": {
     "end_time": "2025-09-30T06:33:31.761387Z",
     "start_time": "2025-09-30T06:33:31.756944Z"
    }
   },
   "source": [
    "#load preprocessor\n",
    "preprocessor = joblib.load('../models/preprocessor.pkl')\n"
   ],
   "outputs": [],
   "execution_count": 41
  },
  {
   "cell_type": "code",
   "id": "c2fb520e-ea99-4d15-8d53-f68d4ac9604b",
   "metadata": {
    "ExecuteTime": {
     "end_time": "2025-09-30T06:33:32.169527Z",
     "start_time": "2025-09-30T06:33:32.132667Z"
    }
   },
   "source": [
    "#Split the data into train and test sets\n",
    "X_train, X_test, y_train, y_test = train_test_split(\n",
    "    X, y, test_size=0.2, random_state=42\n",
    ")\n",
    "print(f\"Training set: {X_train.shape}\")\n",
    "print(f\"Testing set: {X_test.shape}\")"
   ],
   "outputs": [
    {
     "name": "stdout",
     "output_type": "stream",
     "text": [
      "Training set: (141668, 13)\n",
      "Testing set: (35418, 13)\n"
     ]
    }
   ],
   "execution_count": 42
  },
  {
   "cell_type": "code",
   "id": "2eeac47b-edae-4edf-9ecc-4294e7f6ec6b",
   "metadata": {
    "ExecuteTime": {
     "end_time": "2025-09-30T06:33:33.096146Z",
     "start_time": "2025-09-30T06:33:32.785765Z"
    }
   },
   "source": [
    "# Transform the features using the preprocessor\n",
    "X_train_transformed = preprocessor.fit_transform(X_train)\n",
    "X_test_transformed = preprocessor.transform(X_test)\n",
    "\n",
    "print(f\"Transformed training features: {X_train_transformed.shape}\")\n",
    "print(f\"Transformed testing features: {X_test_transformed.shape}\")"
   ],
   "outputs": [
    {
     "name": "stdout",
     "output_type": "stream",
     "text": [
      "Transformed training features: (141668, 125)\n",
      "Transformed testing features: (35418, 125)\n"
     ]
    }
   ],
   "execution_count": 43
  },
  {
   "cell_type": "code",
   "id": "12856f7b-c383-4b84-a431-142d4ef81c2a",
   "metadata": {
    "ExecuteTime": {
     "end_time": "2025-09-30T06:33:34.194080Z",
     "start_time": "2025-09-30T06:33:33.701444Z"
    }
   },
   "source": [
    "# Initialize and train Decision Tree\n",
    "dt_model = DecisionTreeRegressor(\n",
    "    random_state=42,\n",
    "    max_depth=10,  # Limit depth to prevent overfitting\n",
    "    min_samples_split=20,\n",
    "    min_samples_leaf=10\n",
    ")\n",
    "\n",
    "dt_model.fit(X_train_transformed, y_train)\n",
    "print(\"Decision Tree model training completed!\")"
   ],
   "outputs": [
    {
     "name": "stdout",
     "output_type": "stream",
     "text": [
      "Decision Tree model training completed!\n"
     ]
    }
   ],
   "execution_count": 44
  },
  {
   "cell_type": "code",
   "id": "d48b0385-b292-425e-8f59-1d57468be300",
   "metadata": {
    "ExecuteTime": {
     "end_time": "2025-09-30T06:33:34.520574Z",
     "start_time": "2025-09-30T06:33:34.496647Z"
    }
   },
   "source": [
    "# Make predictions\n",
    "y_pred_dt_train = dt_model.predict(X_train_transformed)\n",
    "y_pred_dt = dt_model.predict(X_test_transformed)"
   ],
   "outputs": [],
   "execution_count": 45
  },
  {
   "cell_type": "code",
   "id": "14c5f1b0-c81c-4c8b-9e88-d22314adab83",
   "metadata": {
    "ExecuteTime": {
     "end_time": "2025-09-30T06:33:35.162748Z",
     "start_time": "2025-09-30T06:33:35.150147Z"
    }
   },
   "source": [
    "# Evaluate Decision Tree\n",
    "dt_mae_train = mean_absolute_error(y_train, y_pred_dt_train)\n",
    "dt_mse_train = mean_squared_error(y_train, y_pred_dt_train)\n",
    "dt_rmse_train = np.sqrt(dt_mse_train)\n",
    "dt_r2_train = r2_score(y_train, y_pred_dt_train)\n",
    "\n",
    "print(\"Decision Tree Train Results:\")\n",
    "print(f\"Train MAE: {dt_mae_train:.2f}\")\n",
    "print(f\"Train MSE: {dt_mse_train:.2f}\")\n",
    "print(f\"Train RMSE: {dt_rmse_train:.2f}\")\n",
    "print(f\"Train R² Score: {dt_r2_train:.4f}\")\n",
    "\n",
    "dt_mae = mean_absolute_error(y_test, y_pred_dt)\n",
    "dt_mse = mean_squared_error(y_test, y_pred_dt)\n",
    "dt_rmse = np.sqrt(dt_mse)\n",
    "dt_r2 = r2_score(y_test, y_pred_dt)\n",
    "\n",
    "print(\"\\nDecision Tree Test Results:\")\n",
    "print(f\"Test MAE: {dt_mae:.2f}\")\n",
    "print(f\"Test MSE: {dt_mse:.2f}\")\n",
    "print(f\"Test RMSE: {dt_rmse:.2f}\")\n",
    "print(f\"Test R² Score: {dt_r2:.4f}\")"
   ],
   "outputs": [
    {
     "name": "stdout",
     "output_type": "stream",
     "text": [
      "Decision Tree Train Results:\n",
      "Train MAE: 948.79\n",
      "Train MSE: 2269825.27\n",
      "Train RMSE: 1506.59\n",
      "Train R² Score: 0.7073\n",
      "\n",
      "Decision Tree Test Results:\n",
      "Test MAE: 961.06\n",
      "Test MSE: 2360875.10\n",
      "Test RMSE: 1536.51\n",
      "Test R² Score: 0.6960\n"
     ]
    }
   ],
   "execution_count": 46
  },
  {
   "cell_type": "code",
   "id": "da56cbd0-9aa4-4560-9572-1eacafc04b26",
   "metadata": {
    "ExecuteTime": {
     "end_time": "2025-09-30T06:33:35.754781Z",
     "start_time": "2025-09-30T06:33:35.751649Z"
    }
   },
   "source": [
    "# Feature Importance Analysis for Decision Tree\n",
    "# Get feature names after preprocessing\n",
    "#feature_names = []\n",
    "#for name, transformer, features in preprocessor.transformers_:\n",
    "    #if name == 'num':\n",
    "        #feature_names.extend(features)\n",
    "    #elif name == 'cat':\n",
    "        # Get one-hot encoded feature names\n",
    "        #cat_features = preprocessor.named_transformers_['cat'].named_steps['onehot'].get_feature_names_out(features)\n",
    "        #feature_names.extend(cat_features)\n",
    "\n",
    "# Decision Tree Feature Importance\n",
    "#dt_importance_df = pd.DataFrame({\n",
    "    #'feature': feature_names,\n",
    "    #'importance': dt_model.feature_importances_\n",
    "#}).sort_values('importance', ascending=False)\n",
    "\n",
    "#print(\"Top 15 Most Important Features (Decision Tree):\")\n",
    "#print(dt_importance_df.head(15))"
   ],
   "outputs": [],
   "execution_count": 47
  },
  {
   "cell_type": "code",
   "id": "b4b5daa1-b32e-4eb1-859d-a492fd791f2e",
   "metadata": {
    "ExecuteTime": {
     "end_time": "2025-09-30T06:33:36.765813Z",
     "start_time": "2025-09-30T06:33:36.763178Z"
    }
   },
   "source": [
    "# Plot Decision Tree Feature Importance\n",
    "#plt.figure(figsize=(12, 8))\n",
    "#sns.barplot(data=dt_importance_df.head(15), y='feature', x='importance', palette='viridis')\n",
    "#plt.title('Top 15 Feature Importances - Decision Tree', fontsize=16, fontweight='bold')\n",
    "#plt.xlabel('Importance Score', fontsize=12)\n",
    "#plt.ylabel('Features', fontsize=12)\n",
    "#plt.tight_layout()\n",
    "#plt.show()"
   ],
   "outputs": [],
   "execution_count": 48
  },
  {
   "cell_type": "code",
   "id": "7c1df926-4003-4d6e-b293-f9af85e7f516",
   "metadata": {
    "ExecuteTime": {
     "end_time": "2025-09-30T06:33:37.002179Z",
     "start_time": "2025-09-30T06:33:36.996089Z"
    }
   },
   "source": [
    "# Save Decision Tree model\n",
    "joblib.dump(dt_model, '../models/decision_tree_model.pkl')\n",
    "print(\"\\nDecision Tree model saved as 'decision_tree_model.pkl'\")"
   ],
   "outputs": [
    {
     "name": "stdout",
     "output_type": "stream",
     "text": [
      "\n",
      "Decision Tree model saved as 'decision_tree_model.pkl'\n"
     ]
    }
   ],
   "execution_count": 49
  },
  {
   "cell_type": "code",
   "id": "5341e71f-7245-4643-b15d-5b1463e20660",
   "metadata": {
    "ExecuteTime": {
     "end_time": "2025-09-30T06:33:53.605638Z",
     "start_time": "2025-09-30T06:33:37.216577Z"
    }
   },
   "source": [
    "# Initialize and train Random Forest model\n",
    "rf_model = RandomForestRegressor(\n",
    "    n_estimators=100,\n",
    "    random_state=42,\n",
    "    max_depth=15,\n",
    "    min_samples_split=15,\n",
    "    min_samples_leaf=5,\n",
    "    n_jobs=-1  # Use all available cores\n",
    ")\n",
    "rf_model.fit(X_train_transformed, y_train)\n",
    "print(\"Random Forest model training completed!\")"
   ],
   "outputs": [
    {
     "name": "stdout",
     "output_type": "stream",
     "text": [
      "Random Forest model training completed!\n"
     ]
    }
   ],
   "execution_count": 50
  },
  {
   "cell_type": "code",
   "id": "019bc5d7-401b-43f9-a9e0-006006dc25c9",
   "metadata": {
    "ExecuteTime": {
     "end_time": "2025-09-30T06:34:10.153100Z",
     "start_time": "2025-09-30T06:34:09.950524Z"
    }
   },
   "source": [
    "# Make predictions\n",
    "y_pred_rf_train = rf_model.predict(X_train_transformed)\n",
    "y_pred_rf = rf_model.predict(X_test_transformed)"
   ],
   "outputs": [],
   "execution_count": 51
  },
  {
   "cell_type": "code",
   "id": "cf2a9ebc-1994-4d30-aa03-b4a1421c2182",
   "metadata": {
    "ExecuteTime": {
     "end_time": "2025-09-30T06:34:11.108353Z",
     "start_time": "2025-09-30T06:34:11.099159Z"
    }
   },
   "source": [
    "# Evaluate Random Forest\n",
    "rf_mae_train = mean_absolute_error(y_train, y_pred_rf_train)\n",
    "rf_mse_train = mean_squared_error(y_train, y_pred_rf_train)\n",
    "rf_rmse_train = np.sqrt(rf_mse_train)\n",
    "rf_r2_train = r2_score(y_train, y_pred_rf_train)\n",
    "\n",
    "print(\"Random Forest Train Results:\")\n",
    "print(f\"Train MAE: {rf_mae_train:.2f}\")\n",
    "print(f\"Train MSE: {rf_mse_train:.2f}\")\n",
    "print(f\"Train RMSE: {rf_rmse_train:.2f}\")\n",
    "print(f\"Train R² Score: {rf_r2_train:.4f}\")\n",
    "\n",
    "rf_mae = mean_absolute_error(y_test, y_pred_rf)\n",
    "rf_mse = mean_squared_error(y_test, y_pred_rf)\n",
    "rf_rmse = np.sqrt(rf_mse)\n",
    "rf_r2 = r2_score(y_test, y_pred_rf)\n",
    "\n",
    "print(\"\\nRandom Forest Test Results:\")\n",
    "print(f\"Test MAE: {rf_mae:.2f}\")\n",
    "print(f\"Test MSE: {rf_mse:.2f}\")\n",
    "print(f\"Test RMSE: {rf_rmse:.2f}\")\n",
    "print(f\"Test R² Score: {rf_r2:.4f}\")\n"
   ],
   "outputs": [
    {
     "name": "stdout",
     "output_type": "stream",
     "text": [
      "Random Forest Train Results:\n",
      "Train MAE: 750.06\n",
      "Train MSE: 1612269.55\n",
      "Train RMSE: 1269.75\n",
      "Train R² Score: 0.7921\n",
      "\n",
      "Random Forest Test Results:\n",
      "Test MAE: 773.84\n",
      "Test MSE: 1737969.98\n",
      "Test RMSE: 1318.32\n",
      "Test R² Score: 0.7762\n"
     ]
    }
   ],
   "execution_count": 52
  },
  {
   "cell_type": "code",
   "id": "4de2d182-0727-43b2-927d-b2cf4618bbc5",
   "metadata": {
    "ExecuteTime": {
     "end_time": "2025-09-30T06:34:12.034354Z",
     "start_time": "2025-09-30T06:34:12.032317Z"
    }
   },
   "source": [
    "# Feature Importance Analysis for Random Forest\n",
    "# Get feature names after preprocessing (if not already defined)\n",
    "#feature_names = []\n",
    "#for name, transformer, features in preprocessor.transformers_:\n",
    "    #if name == 'num':\n",
    "        #feature_names.extend(features)\n",
    "    #elif name == 'cat':\n",
    "        # Get one-hot encoded feature names\n",
    "        #cat_features = preprocessor.named_transformers_['cat'].named_steps['onehot'].get_feature_names_out(features)\n",
    "        #feature_names.extend(cat_features)\n",
    "\n",
    "# Random Forest Feature Importance\n",
    "#rf_importance_df = pd.DataFrame({\n",
    "    #'feature': feature_names,\n",
    "    #'importance': rf_model.feature_importances_\n",
    "#}).sort_values('importance', ascending=False)\n",
    "\n",
    "#print(\"Top 15 Most Important Features (Random Forest):\")\n",
    "#print(rf_importance_df.head(15))"
   ],
   "outputs": [],
   "execution_count": 53
  },
  {
   "cell_type": "code",
   "id": "34bf2a5b-3375-4e68-a957-2821440b6dc6",
   "metadata": {
    "ExecuteTime": {
     "end_time": "2025-09-30T06:34:12.637534Z",
     "start_time": "2025-09-30T06:34:12.635039Z"
    }
   },
   "source": [
    "# Plot Random Forest Feature Importance\n",
    "#plt.figure(figsize=(12, 8))\n",
    "#sns.barplot(data=rf_importance_df.head(15), y='feature', x='importance', palette='plasma')\n",
    "#plt.title('Top 15 Feature Importances - Random Forest', fontsize=16, fontweight='bold')\n",
    "#plt.xlabel('Importance Score', fontsize=12)\n",
    "#plt.ylabel('Features', fontsize=12)\n",
    "#plt.tight_layout()\n",
    "#plt.show()"
   ],
   "outputs": [],
   "execution_count": 54
  },
  {
   "cell_type": "code",
   "id": "c2d32cf8-4631-4b44-ae8d-97fdbfa49f3e",
   "metadata": {
    "ExecuteTime": {
     "end_time": "2025-09-30T06:34:13.110338Z",
     "start_time": "2025-09-30T06:34:13.079994Z"
    }
   },
   "source": [
    "# Save Random Forest model\n",
    "joblib.dump(rf_model, '../models/random_forest_model.pkl')\n",
    "print(\"\\nRandom Forest model saved as 'random_forest_model.pkl'\")"
   ],
   "outputs": [
    {
     "name": "stdout",
     "output_type": "stream",
     "text": [
      "\n",
      "Random Forest model saved as 'random_forest_model.pkl'\n"
     ]
    }
   ],
   "execution_count": 55
  }
 ],
 "metadata": {
  "kernelspec": {
   "display_name": "Python 3 (ipykernel)",
   "language": "python",
   "name": "python3"
  },
  "language_info": {
   "codemirror_mode": {
    "name": "ipython",
    "version": 3
   },
   "file_extension": ".py",
   "mimetype": "text/x-python",
   "name": "python",
   "nbconvert_exporter": "python",
   "pygments_lexer": "ipython3",
   "version": "3.12.7"
  }
 },
 "nbformat": 4,
 "nbformat_minor": 5
}
